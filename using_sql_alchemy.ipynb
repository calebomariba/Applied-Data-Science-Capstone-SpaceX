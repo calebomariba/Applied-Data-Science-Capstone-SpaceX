{
 "cells": [
  {
   "cell_type": "code",
   "execution_count": 1,
   "id": "f2163bcd-6237-45b8-85e5-7af5b2a43953",
   "metadata": {},
   "outputs": [],
   "source": [
    "import pandas as pd\n",
    "from sqlalchemy import create_engine"
   ]
  },
  {
   "cell_type": "code",
   "execution_count": 2,
   "id": "97450f76-6093-4be2-a1c1-37862ba4bda2",
   "metadata": {},
   "outputs": [],
   "source": [
    "# Step 1: Load CSV file into a Pandas DataFrame\n",
    "df = pd.read_csv(\"https://cf-courses-data.s3.us.cloud-object-storage.appdomain.cloud/IBM-DS0321EN-SkillsNetwork/labs/module_2/data/Spacex.csv\")"
   ]
  },
  {
   "cell_type": "code",
   "execution_count": 4,
   "id": "28b3d540-fa93-4c9c-b4fc-a788ba4d3cc3",
   "metadata": {},
   "outputs": [],
   "source": [
    "# Step 2: Create an SQLite database connection\n",
    "engine = create_engine('sqlite:///spacex.db')"
   ]
  },
  {
   "cell_type": "code",
   "execution_count": 5,
   "id": "0cd6ada5-34ba-4b6e-9c40-e192638df672",
   "metadata": {},
   "outputs": [
    {
     "data": {
      "text/plain": [
       "101"
      ]
     },
     "execution_count": 5,
     "metadata": {},
     "output_type": "execute_result"
    }
   ],
   "source": [
    "# Step 3: Write the DataFrame to SQLite database\n",
    "df.to_sql(\"SPACEXTBL\", engine, if_exists='replace', index=False, method=\"multi\")"
   ]
  },
  {
   "cell_type": "code",
   "execution_count": 6,
   "id": "b748bf16-ac13-4bad-97fa-899200b4c3ea",
   "metadata": {},
   "outputs": [],
   "source": [
    "query = \"SELECT DISTINCT Launch_Site FROM SPACEXTBL;\""
   ]
  },
  {
   "cell_type": "code",
   "execution_count": 8,
   "id": "2796d446-c3f3-4a4d-a361-c393bf0e84a6",
   "metadata": {},
   "outputs": [],
   "source": [
    "# Read the query result into a pandas DataFrame\n",
    "result_df = pd.read_sql(query, engine)"
   ]
  },
  {
   "cell_type": "code",
   "execution_count": 9,
   "id": "aea0f715-ff3f-4297-87bb-4e0f38b0c494",
   "metadata": {},
   "outputs": [
    {
     "name": "stdout",
     "output_type": "stream",
     "text": [
      "    Launch_Site\n",
      "0   CCAFS LC-40\n",
      "1   VAFB SLC-4E\n",
      "2    KSC LC-39A\n",
      "3  CCAFS SLC-40\n"
     ]
    }
   ],
   "source": [
    "\n",
    "# Display the results\n",
    "print(result_df)"
   ]
  },
  {
   "cell_type": "code",
   "execution_count": null,
   "id": "bcb1bbf8-8585-4475-a4c3-94ae8183f90a",
   "metadata": {},
   "outputs": [],
   "source": []
  }
 ],
 "metadata": {
  "kernelspec": {
   "display_name": "spacex_env",
   "language": "python",
   "name": "spacex_env"
  },
  "language_info": {
   "codemirror_mode": {
    "name": "ipython",
    "version": 3
   },
   "file_extension": ".py",
   "mimetype": "text/x-python",
   "name": "python",
   "nbconvert_exporter": "python",
   "pygments_lexer": "ipython3",
   "version": "3.10.15"
  }
 },
 "nbformat": 4,
 "nbformat_minor": 5
}
