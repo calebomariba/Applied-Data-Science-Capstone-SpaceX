{
 "cells": [
  {
   "cell_type": "code",
   "execution_count": 1,
   "id": "87235998-19bc-4bad-902b-80df221b0828",
   "metadata": {},
   "outputs": [],
   "source": [
    "import pandas as pd\n",
    "\n",
    "df = pd.read_csv(\"https://cf-courses-data.s3.us.cloud-object-storage.appdomain.cloud/IBM-DS0321EN-SkillsNetwork/labs/module_2/data/Spacex.csv\")\n"
   ]
  },
  {
   "cell_type": "code",
   "execution_count": 3,
   "id": "da7039af-b3ec-4452-a5da-fb6a5e11250a",
   "metadata": {},
   "outputs": [],
   "source": [
    "import sqlite3\n",
    "\n",
    "conn = sqlite3.connect('spacex.db')  # Connect to the SQLite database\n"
   ]
  },
  {
   "cell_type": "code",
   "execution_count": 4,
   "id": "db53e291-052b-44e8-9881-a60c00790305",
   "metadata": {},
   "outputs": [
    {
     "data": {
      "text/plain": [
       "101"
      ]
     },
     "execution_count": 4,
     "metadata": {},
     "output_type": "execute_result"
    }
   ],
   "source": [
    "df.to_sql('SPACEXTBL', conn, if_exists='replace', index=False)\n"
   ]
  },
  {
   "cell_type": "code",
   "execution_count": 5,
   "id": "2ce7ca3e-44fa-40db-9313-7a3e7eeecfe4",
   "metadata": {},
   "outputs": [
    {
     "name": "stdout",
     "output_type": "stream",
     "text": [
      "    Launch_Site\n",
      "0   CCAFS LC-40\n",
      "1   VAFB SLC-4E\n",
      "2    KSC LC-39A\n",
      "3  CCAFS SLC-40\n"
     ]
    }
   ],
   "source": [
    "# Run a query directly\n",
    "query = \"SELECT DISTINCT Launch_Site FROM SPACEXTBL\"\n",
    "result = pd.read_sql(query, conn)  # This fetches the query result directly into a Pandas DataFrame\n",
    "\n",
    "print(result)\n"
   ]
  },
  {
   "cell_type": "code",
   "execution_count": null,
   "id": "5833a3a9-df85-4cab-93ce-04614acc734a",
   "metadata": {},
   "outputs": [],
   "source": []
  }
 ],
 "metadata": {
  "kernelspec": {
   "display_name": "spacex_env",
   "language": "python",
   "name": "spacex_env"
  },
  "language_info": {
   "codemirror_mode": {
    "name": "ipython",
    "version": 3
   },
   "file_extension": ".py",
   "mimetype": "text/x-python",
   "name": "python",
   "nbconvert_exporter": "python",
   "pygments_lexer": "ipython3",
   "version": "3.10.15"
  }
 },
 "nbformat": 4,
 "nbformat_minor": 5
}
